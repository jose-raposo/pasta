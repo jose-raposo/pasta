{
 "cells": [
  {
   "cell_type": "code",
   "execution_count": 1,
   "id": "806f7218",
   "metadata": {},
   "outputs": [],
   "source": [
    "import pandas as pd\n",
    "import numpy as np\n",
    "import joblib\n",
    "from flask import Flask\n",
    "from flask_restful import reqparse, abort, Api, Resource\n",
    "from sklearn.linear_model import LogisticRegression\n",
    "import requests\n",
    "import json"
   ]
  },
  {
   "cell_type": "markdown",
   "id": "5686f80d",
   "metadata": {},
   "source": [
    "- ## Carregando a base de dados"
   ]
  },
  {
   "cell_type": "code",
   "execution_count": 2,
   "id": "131e46fb",
   "metadata": {},
   "outputs": [
    {
     "data": {
      "text/html": [
       "<div>\n",
       "<style scoped>\n",
       "    .dataframe tbody tr th:only-of-type {\n",
       "        vertical-align: middle;\n",
       "    }\n",
       "\n",
       "    .dataframe tbody tr th {\n",
       "        vertical-align: top;\n",
       "    }\n",
       "\n",
       "    .dataframe thead th {\n",
       "        text-align: right;\n",
       "    }\n",
       "</style>\n",
       "<table border=\"1\" class=\"dataframe\">\n",
       "  <thead>\n",
       "    <tr style=\"text-align: right;\">\n",
       "      <th></th>\n",
       "      <th>idade</th>\n",
       "      <th>esv</th>\n",
       "      <th>essv</th>\n",
       "      <th>imve</th>\n",
       "      <th>vae</th>\n",
       "      <th>u</th>\n",
       "      <th>cr</th>\n",
       "      <th>k</th>\n",
       "      <th>ct</th>\n",
       "      <th>icc</th>\n",
       "    </tr>\n",
       "  </thead>\n",
       "  <tbody>\n",
       "    <tr>\n",
       "      <th>0</th>\n",
       "      <td>57.0</td>\n",
       "      <td>374.8</td>\n",
       "      <td>72.0</td>\n",
       "      <td>98.0</td>\n",
       "      <td>20.0</td>\n",
       "      <td>31.0</td>\n",
       "      <td>0.80</td>\n",
       "      <td>4.92</td>\n",
       "      <td>183.0</td>\n",
       "      <td>1.0</td>\n",
       "    </tr>\n",
       "    <tr>\n",
       "      <th>1</th>\n",
       "      <td>40.0</td>\n",
       "      <td>329.6</td>\n",
       "      <td>191.0</td>\n",
       "      <td>95.0</td>\n",
       "      <td>17.0</td>\n",
       "      <td>40.0</td>\n",
       "      <td>1.04</td>\n",
       "      <td>4.63</td>\n",
       "      <td>233.0</td>\n",
       "      <td>0.0</td>\n",
       "    </tr>\n",
       "    <tr>\n",
       "      <th>2</th>\n",
       "      <td>36.0</td>\n",
       "      <td>971.4</td>\n",
       "      <td>231.0</td>\n",
       "      <td>80.0</td>\n",
       "      <td>45.0</td>\n",
       "      <td>20.0</td>\n",
       "      <td>0.54</td>\n",
       "      <td>3.58</td>\n",
       "      <td>162.0</td>\n",
       "      <td>1.0</td>\n",
       "    </tr>\n",
       "    <tr>\n",
       "      <th>3</th>\n",
       "      <td>44.0</td>\n",
       "      <td>496.5</td>\n",
       "      <td>76.0</td>\n",
       "      <td>78.0</td>\n",
       "      <td>34.0</td>\n",
       "      <td>23.0</td>\n",
       "      <td>0.81</td>\n",
       "      <td>3.93</td>\n",
       "      <td>140.0</td>\n",
       "      <td>0.0</td>\n",
       "    </tr>\n",
       "    <tr>\n",
       "      <th>4</th>\n",
       "      <td>66.0</td>\n",
       "      <td>587.7</td>\n",
       "      <td>705.0</td>\n",
       "      <td>99.0</td>\n",
       "      <td>22.0</td>\n",
       "      <td>32.0</td>\n",
       "      <td>1.17</td>\n",
       "      <td>4.22</td>\n",
       "      <td>229.0</td>\n",
       "      <td>1.0</td>\n",
       "    </tr>\n",
       "    <tr>\n",
       "      <th>...</th>\n",
       "      <td>...</td>\n",
       "      <td>...</td>\n",
       "      <td>...</td>\n",
       "      <td>...</td>\n",
       "      <td>...</td>\n",
       "      <td>...</td>\n",
       "      <td>...</td>\n",
       "      <td>...</td>\n",
       "      <td>...</td>\n",
       "      <td>...</td>\n",
       "    </tr>\n",
       "    <tr>\n",
       "      <th>595</th>\n",
       "      <td>36.0</td>\n",
       "      <td>40.1</td>\n",
       "      <td>80.0</td>\n",
       "      <td>69.0</td>\n",
       "      <td>18.0</td>\n",
       "      <td>38.0</td>\n",
       "      <td>0.56</td>\n",
       "      <td>4.92</td>\n",
       "      <td>227.0</td>\n",
       "      <td>0.0</td>\n",
       "    </tr>\n",
       "    <tr>\n",
       "      <th>596</th>\n",
       "      <td>60.0</td>\n",
       "      <td>233.2</td>\n",
       "      <td>130.0</td>\n",
       "      <td>84.0</td>\n",
       "      <td>19.0</td>\n",
       "      <td>33.0</td>\n",
       "      <td>0.60</td>\n",
       "      <td>4.60</td>\n",
       "      <td>245.0</td>\n",
       "      <td>0.0</td>\n",
       "    </tr>\n",
       "    <tr>\n",
       "      <th>597</th>\n",
       "      <td>71.0</td>\n",
       "      <td>201.1</td>\n",
       "      <td>467.0</td>\n",
       "      <td>72.0</td>\n",
       "      <td>35.0</td>\n",
       "      <td>32.0</td>\n",
       "      <td>1.13</td>\n",
       "      <td>4.29</td>\n",
       "      <td>188.0</td>\n",
       "      <td>0.0</td>\n",
       "    </tr>\n",
       "    <tr>\n",
       "      <th>598</th>\n",
       "      <td>67.0</td>\n",
       "      <td>977.9</td>\n",
       "      <td>132.0</td>\n",
       "      <td>106.0</td>\n",
       "      <td>36.0</td>\n",
       "      <td>31.0</td>\n",
       "      <td>0.63</td>\n",
       "      <td>3.84</td>\n",
       "      <td>241.0</td>\n",
       "      <td>1.0</td>\n",
       "    </tr>\n",
       "    <tr>\n",
       "      <th>599</th>\n",
       "      <td>71.0</td>\n",
       "      <td>719.4</td>\n",
       "      <td>396.0</td>\n",
       "      <td>76.0</td>\n",
       "      <td>45.0</td>\n",
       "      <td>31.0</td>\n",
       "      <td>0.57</td>\n",
       "      <td>3.68</td>\n",
       "      <td>204.0</td>\n",
       "      <td>0.0</td>\n",
       "    </tr>\n",
       "  </tbody>\n",
       "</table>\n",
       "<p>600 rows × 10 columns</p>\n",
       "</div>"
      ],
      "text/plain": [
       "     idade    esv   essv   imve   vae     u    cr     k     ct  icc\n",
       "0     57.0  374.8   72.0   98.0  20.0  31.0  0.80  4.92  183.0  1.0\n",
       "1     40.0  329.6  191.0   95.0  17.0  40.0  1.04  4.63  233.0  0.0\n",
       "2     36.0  971.4  231.0   80.0  45.0  20.0  0.54  3.58  162.0  1.0\n",
       "3     44.0  496.5   76.0   78.0  34.0  23.0  0.81  3.93  140.0  0.0\n",
       "4     66.0  587.7  705.0   99.0  22.0  32.0  1.17  4.22  229.0  1.0\n",
       "..     ...    ...    ...    ...   ...   ...   ...   ...    ...  ...\n",
       "595   36.0   40.1   80.0   69.0  18.0  38.0  0.56  4.92  227.0  0.0\n",
       "596   60.0  233.2  130.0   84.0  19.0  33.0  0.60  4.60  245.0  0.0\n",
       "597   71.0  201.1  467.0   72.0  35.0  32.0  1.13  4.29  188.0  0.0\n",
       "598   67.0  977.9  132.0  106.0  36.0  31.0  0.63  3.84  241.0  1.0\n",
       "599   71.0  719.4  396.0   76.0  45.0  31.0  0.57  3.68  204.0  0.0\n",
       "\n",
       "[600 rows x 10 columns]"
      ]
     },
     "execution_count": 2,
     "metadata": {},
     "output_type": "execute_result"
    }
   ],
   "source": [
    "df = pd.read_csv('train_data.csv')\n",
    "df"
   ]
  },
  {
   "cell_type": "markdown",
   "id": "ac2a24bd",
   "metadata": {},
   "source": [
    "- ## Treinando o modelo"
   ]
  },
  {
   "cell_type": "code",
   "execution_count": 15,
   "id": "cb3fb601",
   "metadata": {},
   "outputs": [],
   "source": [
    "X = df[['idade', 'esv', 'essv', 'imve', 'vae', 'u', 'cr', 'k', 'ct']].values\n",
    "y = df.icc"
   ]
  },
  {
   "cell_type": "code",
   "execution_count": 29,
   "id": "4f84a88f",
   "metadata": {},
   "outputs": [
    {
     "data": {
      "text/plain": [
       "0.7766666666666666"
      ]
     },
     "execution_count": 29,
     "metadata": {},
     "output_type": "execute_result"
    }
   ],
   "source": [
    "lr= LogisticRegression(max_iter = 3000)\n",
    "lr.fit(X, y)\n",
    "lr.score(X,y)"
   ]
  },
  {
   "cell_type": "markdown",
   "id": "f47a5e52",
   "metadata": {},
   "source": [
    "- ## Salvando o modelo"
   ]
  },
  {
   "cell_type": "markdown",
   "id": "dc6322f9",
   "metadata": {},
   "source": [
    "Você so vai conseguir importar as libs e executar daqui para baixo"
   ]
  },
  {
   "cell_type": "code",
   "execution_count": 105,
   "id": "f5ef3449",
   "metadata": {},
   "outputs": [],
   "source": [
    "#model = joblib.dump(lr, 'model.pkl')"
   ]
  },
  {
   "cell_type": "markdown",
   "id": "bc6b57ba",
   "metadata": {},
   "source": [
    "- ## Enviando as predições para localhost"
   ]
  },
  {
   "cell_type": "code",
   "execution_count": 29,
   "id": "bd1170eb",
   "metadata": {},
   "outputs": [
    {
     "data": {
      "text/plain": [
       "'Request already not made'"
      ]
     },
     "execution_count": 29,
     "metadata": {},
     "output_type": "execute_result"
    }
   ],
   "source": [
    "url = 'http://127.0.0.1:5000/'\n",
    "url2 = 'https://icc-predictor.herokuapp.com/'\n",
    "params ={'idade': 23,\n",
    "        'esv': 100,\n",
    "        'essv': 100,\n",
    "        'imve': 100,\n",
    "        'vae': 100,\n",
    "        'u': 12,\n",
    "        'creat': 1.2,\n",
    "        'k': 2,\n",
    "        'ct': 200\n",
    "        }\n",
    "response = requests.get(url, params)\n",
    "response.json()"
   ]
  },
  {
   "cell_type": "markdown",
   "id": "26613af5",
   "metadata": {},
   "source": [
    "- ## Conferindo se de fato está certo"
   ]
  },
  {
   "cell_type": "code",
   "execution_count": 31,
   "id": "c4329cfe",
   "metadata": {},
   "outputs": [],
   "source": [
    "model = joblib.load('model.pkl') # carrega o modelo"
   ]
  },
  {
   "cell_type": "code",
   "execution_count": 35,
   "id": "e74f8866",
   "metadata": {},
   "outputs": [
    {
     "data": {
      "text/plain": [
       "array([61.57003989])"
      ]
     },
     "execution_count": 35,
     "metadata": {},
     "output_type": "execute_result"
    }
   ],
   "source": [
    "model.predict_proba(np.array([13, 100, 100, 100, 140, 12, 1., 2, 200]).reshape(-1,9))[:,1]*100"
   ]
  },
  {
   "cell_type": "code",
   "execution_count": 5,
   "id": "1f25ef1d",
   "metadata": {},
   "outputs": [
    {
     "data": {
      "text/plain": [
       "int"
      ]
     },
     "execution_count": 5,
     "metadata": {},
     "output_type": "execute_result"
    }
   ],
   "source": [
    "type(2)"
   ]
  },
  {
   "cell_type": "code",
   "execution_count": null,
   "id": "a95c627f",
   "metadata": {},
   "outputs": [],
   "source": []
  }
 ],
 "metadata": {
  "kernelspec": {
   "display_name": "Python 3",
   "language": "python",
   "name": "python3"
  },
  "language_info": {
   "codemirror_mode": {
    "name": "ipython",
    "version": 3
   },
   "file_extension": ".py",
   "mimetype": "text/x-python",
   "name": "python",
   "nbconvert_exporter": "python",
   "pygments_lexer": "ipython3",
   "version": "3.9.1"
  }
 },
 "nbformat": 4,
 "nbformat_minor": 5
}
